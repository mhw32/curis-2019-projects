{
 "cells": [
  {
   "cell_type": "markdown",
   "metadata": {},
   "source": [
    "# Exercise w/ PyTorch\n",
    "### Author: Ho Kyung Sung"
   ]
  },
  {
   "cell_type": "markdown",
   "metadata": {},
   "source": [
    "#### Assignment spec: (date: May 22 2019)\n",
    "(i) Generate a dataset as follows: sample 10000 points from N(0, 1) as inputs (x). Define outputs (y) as y = 5x^3 + 10. Reserve 80% of the dataset for training and save 20% for evaluation.\n",
    "\n",
    "(ii) train a linear regression model (built in PyTorch!) using gradient descent on the training dataset. Evaluate on the reserved 20%. How does your model perform on training and evaluation data? (compute the mean squared error between predicted y and true y). \n",
    "\n",
    "(iii) Add more layers and some nonlinearities to your linear regression model (nn.TanH lets say). Compute training and evaluation performance again. What happens?"
   ]
  },
  {
   "cell_type": "code",
   "execution_count": 1,
   "metadata": {},
   "outputs": [],
   "source": [
    "import numpy as np\n",
    "import torch\n",
    "import matplotlib.pyplot as plt\n",
    "import torch.nn.functional as F"
   ]
  },
  {
   "cell_type": "code",
   "execution_count": 2,
   "metadata": {},
   "outputs": [],
   "source": [
    "# Function for printing evaluation stats\n",
    "def print_result(x_eval, y_eval, model):\n",
    "    predicted = model.forward(torch.from_numpy(x_eval).unsqueeze(1)).data.numpy()\n",
    "    print(predicted.shape)\n",
    "\n",
    "    y_eval = np.expand_dims(y_eval, 1)\n",
    "    final_loss = np.mean(np.square(y_eval - predicted))\n",
    "    final_loss2 = criterion(torch.from_numpy(predicted), torch.from_numpy(y_eval)).data.numpy()\n",
    "    print(final_loss)\n",
    "    print(final_loss2)\n",
    "    \n",
    "    plt.plot(x_eval, y_eval, 'o', label = 'from data', alpha = 0.5)\n",
    "    plt.plot(x_eval, predicted[:, 0], '--', label = 'prediction', alpha = 0.5)\n",
    "    plt.legend()\n",
    "    plt.show()\n",
    "    print(model_ln.state_dict())"
   ]
  },
  {
   "cell_type": "markdown",
   "metadata": {},
   "source": [
    ">(i) Generate dataset"
   ]
  },
  {
   "cell_type": "code",
   "execution_count": 3,
   "metadata": {},
   "outputs": [],
   "source": [
    "# (i) Generate dataset\n",
    "n_data = 10000\n",
    "training_cutoff = n_data * 4 // 5\n",
    "\n",
    "mu, sigma = 0, 1\n",
    "x = (sigma * np.random.randn(n_data) + mu).astype(np.float32)\n",
    "y = 5*(x**3) + 10"
   ]
  },
  {
   "cell_type": "code",
   "execution_count": 4,
   "metadata": {},
   "outputs": [],
   "source": [
    "# (ii) Train linear regression model\n",
    "# Create linear regression model\n",
    "class LinearRegressionModel(torch.nn.Module):\n",
    "\n",
    "    def __init__(self, input_dim, output_dim):\n",
    "        super(LinearRegressionModel, self).__init__() \n",
    "        # Single linear layer\n",
    "        self.linear = torch.nn.Linear(input_dim, output_dim)\n",
    "\n",
    "    def forward(self, x):\n",
    "        predict = self.linear(x)\n",
    "        return predict"
   ]
  },
  {
   "cell_type": "markdown",
   "metadata": {},
   "source": [
    ">(ii) Linear Regression"
   ]
  },
  {
   "cell_type": "code",
   "execution_count": 5,
   "metadata": {},
   "outputs": [],
   "source": [
    "# Create instance of model\n",
    "in_dim = 1\n",
    "out_dim = 1\n",
    "model_ln = LinearRegressionModel(in_dim, out_dim)\n",
    "\n",
    "# Mean squared loss\n",
    "criterion = torch.nn.MSELoss()\n",
    "# define eta\n",
    "l_rate = 0.01\n",
    "# Training model is stochastic gradient descent\n",
    "optimizer = torch.optim.SGD(model_ln.parameters(), lr = l_rate)"
   ]
  },
  {
   "cell_type": "code",
   "execution_count": 6,
   "metadata": {},
   "outputs": [
    {
     "name": "stdout",
     "output_type": "stream",
     "text": [
      "training epoch 0, loss 498.2364807128906\n",
      "training epoch 10, loss 382.6518859863281\n",
      "training epoch 20, loss 305.24542236328125\n",
      "training epoch 30, loss 253.4066162109375\n",
      "training epoch 40, loss 218.6902618408203\n",
      "training epoch 50, loss 195.44076538085938\n",
      "training epoch 60, loss 179.87057495117188\n",
      "training epoch 70, loss 169.44317626953125\n",
      "training epoch 80, loss 162.45993041992188\n",
      "training epoch 90, loss 157.78321838378906\n",
      "training epoch 100, loss 154.65121459960938\n",
      "training epoch 110, loss 152.55368041992188\n",
      "training epoch 120, loss 151.14894104003906\n",
      "training epoch 130, loss 150.20819091796875\n",
      "training epoch 140, loss 149.57815551757812\n",
      "training epoch 150, loss 149.1562042236328\n",
      "training epoch 160, loss 148.87362670898438\n",
      "training epoch 170, loss 148.6843719482422\n",
      "training epoch 180, loss 148.55763244628906\n",
      "training epoch 190, loss 148.47274780273438\n",
      "training epoch 200, loss 148.4158935546875\n",
      "training epoch 210, loss 148.37782287597656\n",
      "training epoch 220, loss 148.35232543945312\n",
      "training epoch 230, loss 148.3352508544922\n",
      "training epoch 240, loss 148.32382202148438\n",
      "training epoch 250, loss 148.316162109375\n",
      "training epoch 260, loss 148.31103515625\n",
      "training epoch 270, loss 148.30760192871094\n",
      "training epoch 280, loss 148.3052978515625\n",
      "training epoch 290, loss 148.3037567138672\n"
     ]
    }
   ],
   "source": [
    "x_train = torch.from_numpy(x[:training_cutoff]).unsqueeze(1)\n",
    "y_train = torch.from_numpy(y[:training_cutoff]).unsqueeze(1)\n",
    "\n",
    "epochs = 300\n",
    "for epoch in range(epochs):\n",
    "    inputs = x_train\n",
    "    labels = y_train\n",
    "\n",
    "    optimizer.zero_grad()\n",
    "    outputs = model_ln.forward(inputs)\n",
    "    \n",
    "    loss = criterion(outputs, labels)\n",
    "    loss.backward()# back props\n",
    "    \n",
    "    # Q: how to stop after plateauing?\n",
    "    \n",
    "    # update the parameters\n",
    "    optimizer.step()\n",
    "    \n",
    "    if (epoch % 10 == 0): print('training epoch {}, loss {}'.format(epoch, loss.data))"
   ]
  },
  {
   "cell_type": "code",
   "execution_count": 7,
   "metadata": {},
   "outputs": [
    {
     "name": "stdout",
     "output_type": "stream",
     "text": [
      "(2000, 1)\n",
      "120.187706\n",
      "120.1877\n"
     ]
    },
    {
     "data": {
      "image/png": "[encoded data removed]",
      "text/plain": [
       "<Figure size 432x288 with 1 Axes>"
      ]
     },
     "metadata": {
      "needs_background": "light"
     },
     "output_type": "display_data"
    },
    {
     "name": "stdout",
     "output_type": "stream",
     "text": [
      "OrderedDict([('linear.weight', tensor([[14.7962]])), ('linear.bias', tensor([9.7992]))])\n"
     ]
    }
   ],
   "source": [
    "# Evaluate Linear Model\n",
    "x_eval = x[training_cutoff:]\n",
    "y_eval = y[training_cutoff:]\n",
    "print_result(x_eval, y_eval, model_ln)"
   ]
  },
  {
   "cell_type": "markdown",
   "metadata": {},
   "source": [
    ">(iii) Add non-linear layers (nn.TanH)"
   ]
  },
  {
   "cell_type": "code",
   "execution_count": 8,
   "metadata": {},
   "outputs": [],
   "source": [
    "# iii) Add non-linear layers (nn.TanH)\n",
    "# Create neural regression model\n",
    "class NeuralRegressionModel(torch.nn.Module):\n",
    "\n",
    "    def __init__(self, input_dim, hidden_dim, output_dim):\n",
    "        super(NeuralRegressionModel, self).__init__() \n",
    "        # Single linear layer\n",
    "        self.hidden = torch.nn.Linear(input_dim, hidden_dim)    # hidden layer\n",
    "        self.tanH = torch.nn.Hardtanh()                         # non-linear layer\n",
    "        self.linear = torch.nn.Linear(hidden_dim, output_dim)   # linear output layer\n",
    "        \n",
    "\n",
    "    def forward(self, x):\n",
    "        x = self.hidden(x)\n",
    "        x = self.tanH(x)               # activation function for hidden layer\n",
    "        x = self.linear(x)             # linear output\n",
    "        return x"
   ]
  },
  {
   "cell_type": "code",
   "execution_count": 9,
   "metadata": {},
   "outputs": [],
   "source": [
    "# Create instance of model\n",
    "model_tanH = NeuralRegressionModel(input_dim=1, hidden_dim=100, output_dim=1)\n",
    "\n",
    "# Mean squared loss\n",
    "criterion = torch.nn.MSELoss()\n",
    "# define eta\n",
    "l_rate = 0.01\n",
    "# Training model is stochastic gradient descent\n",
    "optimizer = torch.optim.SGD(model_tanH.parameters(), lr = l_rate)"
   ]
  },
  {
   "cell_type": "code",
   "execution_count": 10,
   "metadata": {},
   "outputs": [
    {
     "name": "stdout",
     "output_type": "stream",
     "text": [
      "training epoch 0, loss 441.792724609375\n",
      "training epoch 50, loss 131.48590087890625\n",
      "training epoch 100, loss 80.41474151611328\n",
      "training epoch 150, loss 54.58200454711914\n",
      "training epoch 200, loss 41.15949630737305\n",
      "training epoch 250, loss 105.91717529296875\n",
      "training epoch 300, loss 29.071874618530273\n",
      "training epoch 350, loss 26.81875228881836\n",
      "training epoch 400, loss 52.121124267578125\n",
      "training epoch 450, loss 22.233802795410156\n",
      "training epoch 500, loss 21.559633255004883\n",
      "training epoch 550, loss 32.523799896240234\n",
      "training epoch 600, loss 25.602048873901367\n",
      "training epoch 650, loss 20.233325958251953\n",
      "training epoch 700, loss 20.721628189086914\n",
      "training epoch 750, loss 21.832931518554688\n",
      "training epoch 800, loss 19.804353713989258\n",
      "training epoch 850, loss 18.396257400512695\n",
      "training epoch 900, loss 18.588821411132812\n",
      "training epoch 950, loss 17.565176010131836\n",
      "training epoch 1000, loss 16.75926971435547\n",
      "training epoch 1050, loss 16.314088821411133\n",
      "training epoch 1100, loss 15.500069618225098\n",
      "training epoch 1150, loss 15.704712867736816\n",
      "training epoch 1200, loss 14.387425422668457\n",
      "training epoch 1250, loss 15.003462791442871\n",
      "training epoch 1300, loss 13.306136131286621\n",
      "training epoch 1350, loss 14.009488105773926\n",
      "training epoch 1400, loss 13.144204139709473\n",
      "training epoch 1450, loss 13.3154878616333\n",
      "training epoch 1500, loss 12.716740608215332\n",
      "training epoch 1550, loss 13.084437370300293\n",
      "training epoch 1600, loss 14.969585418701172\n",
      "training epoch 1650, loss 12.61362075805664\n",
      "training epoch 1700, loss 10.950935363769531\n",
      "training epoch 1750, loss 11.753647804260254\n",
      "training epoch 1800, loss 13.231724739074707\n",
      "training epoch 1850, loss 11.820322036743164\n",
      "training epoch 1900, loss 11.591299057006836\n",
      "training epoch 1950, loss 11.344271659851074\n"
     ]
    }
   ],
   "source": [
    "epochs = 2000\n",
    "for epoch in range(epochs):\n",
    "    inputs = x_train\n",
    "    labels = y_train\n",
    "\n",
    "    optimizer.zero_grad()\n",
    "    outputs = model_tanH.forward(inputs)\n",
    "    \n",
    "    loss = criterion(outputs, labels)\n",
    "    loss.backward()# back props\n",
    "    \n",
    "    # update the parameters\n",
    "    optimizer.step()\n",
    "    \n",
    "    if (epoch % 50 == 0): print('training epoch {}, loss {}'.format(epoch, loss.data))"
   ]
  },
  {
   "cell_type": "code",
   "execution_count": 12,
   "metadata": {},
   "outputs": [
    {
     "data": {
      "text/plain": [
       "array([-0.66277856, -1.7461975 , -1.6619648 , ..., -0.05355509,\n",
       "       -0.23797768,  0.3065061 ], dtype=float32)"
      ]
     },
     "execution_count": 12,
     "metadata": {},
     "output_type": "execute_result"
    }
   ],
   "source": [
    "x_eval"
   ]
  },
  {
   "cell_type": "code",
   "execution_count": 13,
   "metadata": {},
   "outputs": [
    {
     "name": "stdout",
     "output_type": "stream",
     "text": [
      "(2000, 1)\n",
      "5.8073697\n",
      "5.8073697\n"
     ]
    },
    {
     "data": {
      "image/png": "[encoded data removed]",
      "text/plain": [
       "<Figure size 432x288 with 1 Axes>"
      ]
     },
     "metadata": {
      "needs_background": "light"
     },
     "output_type": "display_data"
    },
    {
     "name": "stdout",
     "output_type": "stream",
     "text": [
      "OrderedDict([('linear.weight', tensor([[14.7962]])), ('linear.bias', tensor([9.7992]))])\n"
     ]
    }
   ],
   "source": [
    "# Evalutate non-linear neural network on test set\n",
    "x_eval = x[training_cutoff:]\n",
    "y_eval = y[training_cutoff:]\n",
    "order = np.argsort(x_eval)\n",
    "print_result(x_eval[order], y_eval[order], model_tanH)"
   ]
  },
  {
   "cell_type": "code",
   "execution_count": null,
   "metadata": {},
   "outputs": [],
   "source": []
  },
  {
   "cell_type": "markdown",
   "metadata": {},
   "source": [
    "#### Assignment spec: (date: May 31 2019)\n",
    "1. To measure overfitting, take your trained model and sample points from N(3, 1) and N(-3, 1). Compare your model’s predictions to the true answer. You should see that the MSE is much higher than within the N(0, 1) range.\n",
    "\n",
    "2. Add some form of regularization to your model. Retrain and try to do (1) again. You should see much better MSE."
   ]
  },
  {
   "cell_type": "markdown",
   "metadata": {},
   "source": [
    ">1. test new dataset out of range"
   ]
  },
  {
   "cell_type": "code",
   "execution_count": 14,
   "metadata": {},
   "outputs": [],
   "source": [
    "# New dataset\n",
    "n_new_data = 500\n",
    "\n",
    "mu, sigma = 3, 1\n",
    "x_new1 = (sigma * np.random.randn(n_new_data) + mu).astype(np.float32)\n",
    "y_new1 = 5*(x_new1**3) + 10\n",
    "\n",
    "mu, sigma = -3, 1\n",
    "x_new2 = (sigma * np.random.randn(n_new_data) + mu).astype(np.float32)\n",
    "y_new2 = 5*(x_new2**3) + 10\n",
    "\n",
    "x_new = np.concatenate((x_new1, x_new2))\n",
    "y_new = np.concatenate((y_new1, y_new2))"
   ]
  },
  {
   "cell_type": "code",
   "execution_count": 16,
   "metadata": {
    "scrolled": false
   },
   "outputs": [
    {
     "name": "stdout",
     "output_type": "stream",
     "text": [
      "(1000, 1)\n",
      "17845.07\n",
      "17845.07\n"
     ]
    },
    {
     "data": {
      "image/png": "[encoded data removed]",
      "text/plain": [
       "<Figure size 432x288 with 1 Axes>"
      ]
     },
     "metadata": {
      "needs_background": "light"
     },
     "output_type": "display_data"
    },
    {
     "name": "stdout",
     "output_type": "stream",
     "text": [
      "OrderedDict([('linear.weight', tensor([[14.7962]])), ('linear.bias', tensor([9.7992]))])\n"
     ]
    }
   ],
   "source": [
    "# Evaluate original model for N(0,1) on unseen dataset\n",
    "x_eval = x_new\n",
    "y_eval = y_new\n",
    "order = np.argsort(x_eval)\n",
    "print_result(x_eval[order], y_eval[order], model_tanH)"
   ]
  },
  {
   "cell_type": "markdown",
   "metadata": {},
   "source": [
    ">2. Train model with regularization penalties"
   ]
  },
  {
   "cell_type": "code",
   "execution_count": 23,
   "metadata": {},
   "outputs": [],
   "source": [
    "# Create neural regression model with regularization penalties\n",
    "class Neural_Model_Reg(torch.nn.Module):\n",
    "\n",
    "    def __init__(self, input_dim, hidden_dim, output_dim, dropout=0.2):\n",
    "        super(Neural_Model_Reg, self).__init__() \n",
    "        # Single linear layer\n",
    "        self.hidden = torch.nn.Linear(input_dim, hidden_dim)    # hidden layer\n",
    "        self.tanH = torch.nn.Hardtanh()                         # non-linear layer\n",
    "        self.linear = torch.nn.Linear(hidden_dim, output_dim)   # linear output layer\n",
    "        self.dropout = torch.nn.Dropout(dropout)\n",
    "\n",
    "    def forward(self, x):\n",
    "        x = self.hidden(x)\n",
    "        x = self.tanH(x)               # activation function for hidden layer\n",
    "        x = self.dropout(x)\n",
    "        x = self.linear(x)             # linear output\n",
    "        return x"
   ]
  },
  {
   "cell_type": "code",
   "execution_count": 24,
   "metadata": {},
   "outputs": [],
   "source": [
    "# Create instance of model\n",
    "model_tanH_reg = Neural_Model_Reg(input_dim=1, hidden_dim=50, output_dim=1)\n",
    "\n",
    "# Mean squared loss\n",
    "criterion = torch.nn.MSELoss()\n",
    "# define eta\n",
    "l_rate = 0.01\n",
    "# ADDED L2 penalty\n",
    "wt_decay = 0.01\n",
    "\n",
    "# Training model is stochastic gradient descent\n",
    "optimizer = torch.optim.SGD(model_tanH_reg.parameters(), lr = l_rate, momentum = 0, weight_decay = wt_decay)"
   ]
  },
  {
   "cell_type": "code",
   "execution_count": 27,
   "metadata": {},
   "outputs": [
    {
     "name": "stdout",
     "output_type": "stream",
     "text": [
      "training epoch 0, loss 77.06063079833984\n",
      "training epoch 50, loss 80.95384216308594\n",
      "training epoch 100, loss 78.6331787109375\n",
      "training epoch 150, loss 80.5313720703125\n",
      "training epoch 200, loss 78.28485870361328\n",
      "training epoch 250, loss 80.72695922851562\n",
      "training epoch 300, loss 79.98741149902344\n",
      "training epoch 350, loss 78.18797302246094\n",
      "training epoch 400, loss 79.00597381591797\n",
      "training epoch 450, loss 80.23674011230469\n",
      "training epoch 500, loss 82.38011932373047\n",
      "training epoch 550, loss 79.5477523803711\n",
      "training epoch 600, loss 76.5388412475586\n",
      "training epoch 650, loss 75.757080078125\n",
      "training epoch 700, loss 79.7393798828125\n",
      "training epoch 750, loss 75.24881744384766\n",
      "training epoch 800, loss 88.79426574707031\n",
      "training epoch 850, loss 75.60902404785156\n",
      "training epoch 900, loss 84.17298126220703\n",
      "training epoch 950, loss 75.84988403320312\n",
      "training epoch 1000, loss 77.45575714111328\n",
      "training epoch 1050, loss 85.56890869140625\n",
      "training epoch 1100, loss 81.58200073242188\n",
      "training epoch 1150, loss 78.85295104980469\n",
      "training epoch 1200, loss 76.53450775146484\n",
      "training epoch 1250, loss 83.81607055664062\n",
      "training epoch 1300, loss 73.86713409423828\n",
      "training epoch 1350, loss 86.1218490600586\n",
      "training epoch 1400, loss 76.04629516601562\n",
      "training epoch 1450, loss 76.72454833984375\n",
      "training epoch 1500, loss 82.71839141845703\n",
      "training epoch 1550, loss 77.00926208496094\n",
      "training epoch 1600, loss 80.21517181396484\n",
      "training epoch 1650, loss 78.96710205078125\n",
      "training epoch 1700, loss 77.53365325927734\n",
      "training epoch 1750, loss 78.29557800292969\n",
      "training epoch 1800, loss 83.35125732421875\n",
      "training epoch 1850, loss 74.61377716064453\n",
      "training epoch 1900, loss 81.07450866699219\n",
      "training epoch 1950, loss 77.6900634765625\n",
      "training epoch 2000, loss 74.90782928466797\n",
      "training epoch 2050, loss 75.5172348022461\n",
      "training epoch 2100, loss 77.4307861328125\n",
      "training epoch 2150, loss 84.71527099609375\n",
      "training epoch 2200, loss 76.30608367919922\n",
      "training epoch 2250, loss 81.23809051513672\n",
      "training epoch 2300, loss 83.46394348144531\n",
      "training epoch 2350, loss 77.74417114257812\n",
      "training epoch 2400, loss 78.05492401123047\n",
      "training epoch 2450, loss 91.18649291992188\n",
      "training epoch 2500, loss 75.12715148925781\n",
      "training epoch 2550, loss 75.50228118896484\n",
      "training epoch 2600, loss 83.39496612548828\n",
      "training epoch 2650, loss 77.11631774902344\n",
      "training epoch 2700, loss 79.5325698852539\n",
      "training epoch 2750, loss 78.8401870727539\n",
      "training epoch 2800, loss 75.93758392333984\n",
      "training epoch 2850, loss 80.77716064453125\n",
      "training epoch 2900, loss 80.56338500976562\n",
      "training epoch 2950, loss 78.24212646484375\n",
      "training epoch 3000, loss 74.89816284179688\n",
      "training epoch 3050, loss 83.74948120117188\n",
      "training epoch 3100, loss 79.83169555664062\n",
      "training epoch 3150, loss 77.46484375\n",
      "training epoch 3200, loss 77.7398681640625\n",
      "training epoch 3250, loss 82.96258544921875\n",
      "training epoch 3300, loss 82.25067901611328\n",
      "training epoch 3350, loss 76.42012786865234\n",
      "training epoch 3400, loss 76.08673858642578\n",
      "training epoch 3450, loss 81.6189193725586\n",
      "training epoch 3500, loss 85.36722564697266\n",
      "training epoch 3550, loss 73.93036651611328\n",
      "training epoch 3600, loss 77.11151123046875\n",
      "training epoch 3650, loss 81.4836654663086\n",
      "training epoch 3700, loss 74.99060821533203\n",
      "training epoch 3750, loss 77.86187744140625\n",
      "training epoch 3800, loss 78.06713104248047\n",
      "training epoch 3850, loss 79.81419372558594\n",
      "training epoch 3900, loss 77.7512435913086\n",
      "training epoch 3950, loss 81.96964263916016\n",
      "training epoch 4000, loss 73.34754180908203\n",
      "training epoch 4050, loss 77.23088836669922\n",
      "training epoch 4100, loss 78.01905822753906\n",
      "training epoch 4150, loss 79.78060150146484\n",
      "training epoch 4200, loss 80.16336059570312\n",
      "training epoch 4250, loss 77.55733489990234\n",
      "training epoch 4300, loss 80.91693115234375\n",
      "training epoch 4350, loss 76.15213775634766\n",
      "training epoch 4400, loss 79.03659057617188\n",
      "training epoch 4450, loss 76.04508972167969\n",
      "training epoch 4500, loss 78.38813781738281\n",
      "training epoch 4550, loss 78.6474609375\n",
      "training epoch 4600, loss 79.09329223632812\n",
      "training epoch 4650, loss 77.20216369628906\n",
      "training epoch 4700, loss 79.91899871826172\n",
      "training epoch 4750, loss 78.60701751708984\n",
      "training epoch 4800, loss 80.25614166259766\n",
      "training epoch 4850, loss 76.9493179321289\n",
      "training epoch 4900, loss 82.77392578125\n",
      "training epoch 4950, loss 76.36589050292969\n",
      "training epoch 5000, loss 80.0174560546875\n",
      "training epoch 5050, loss 81.59931945800781\n",
      "training epoch 5100, loss 79.08168029785156\n",
      "training epoch 5150, loss 77.6358413696289\n",
      "training epoch 5200, loss 78.02053833007812\n",
      "training epoch 5250, loss 80.22484588623047\n",
      "training epoch 5300, loss 80.6166000366211\n",
      "training epoch 5350, loss 79.69070434570312\n",
      "training epoch 5400, loss 77.83208465576172\n",
      "training epoch 5450, loss 82.21318817138672\n",
      "training epoch 5500, loss 75.89176177978516\n",
      "training epoch 5550, loss 81.49092102050781\n",
      "training epoch 5600, loss 75.87010955810547\n",
      "training epoch 5650, loss 76.47174835205078\n",
      "training epoch 5700, loss 79.00336456298828\n",
      "training epoch 5750, loss 78.00851440429688\n",
      "training epoch 5800, loss 78.90046691894531\n",
      "training epoch 5850, loss 78.03675842285156\n",
      "training epoch 5900, loss 78.76072692871094\n",
      "training epoch 5950, loss 77.81385803222656\n",
      "training epoch 6000, loss 73.90011596679688\n",
      "training epoch 6050, loss 85.78517150878906\n",
      "training epoch 6100, loss 75.8735580444336\n",
      "training epoch 6150, loss 81.8536376953125\n",
      "training epoch 6200, loss 75.37063598632812\n",
      "training epoch 6250, loss 79.60725402832031\n",
      "training epoch 6300, loss 76.37022399902344\n",
      "training epoch 6350, loss 80.4749526977539\n",
      "training epoch 6400, loss 79.06114959716797\n",
      "training epoch 6450, loss 84.31900787353516\n",
      "training epoch 6500, loss 75.98995208740234\n",
      "training epoch 6550, loss 83.29153442382812\n",
      "training epoch 6600, loss 76.48796081542969\n",
      "training epoch 6650, loss 75.81844329833984\n",
      "training epoch 6700, loss 78.38988494873047\n",
      "training epoch 6750, loss 74.28826141357422\n",
      "training epoch 6800, loss 82.43901824951172\n",
      "training epoch 6850, loss 76.40689849853516\n",
      "training epoch 6900, loss 83.06106567382812\n",
      "training epoch 6950, loss 77.64966583251953\n",
      "training epoch 7000, loss 79.52629089355469\n",
      "training epoch 7050, loss 73.71163940429688\n",
      "training epoch 7100, loss 87.79558563232422\n",
      "training epoch 7150, loss 77.7869644165039\n",
      "training epoch 7200, loss 80.87774658203125\n",
      "training epoch 7250, loss 76.46464538574219\n",
      "training epoch 7300, loss 76.1166763305664\n",
      "training epoch 7350, loss 77.38214874267578\n",
      "training epoch 7400, loss 77.80390930175781\n",
      "training epoch 7450, loss 78.15119934082031\n",
      "training epoch 7500, loss 74.56954193115234\n",
      "training epoch 7550, loss 80.95958709716797\n",
      "training epoch 7600, loss 75.41056060791016\n",
      "training epoch 7650, loss 76.51787567138672\n",
      "training epoch 7700, loss 75.47616577148438\n",
      "training epoch 7750, loss 80.52588653564453\n",
      "training epoch 7800, loss 76.5721206665039\n",
      "training epoch 7850, loss 79.86407470703125\n",
      "training epoch 7900, loss 76.51995086669922\n",
      "training epoch 7950, loss 77.26432037353516\n",
      "training epoch 8000, loss 85.2137222290039\n",
      "training epoch 8050, loss 75.3094253540039\n",
      "training epoch 8100, loss 77.18925476074219\n",
      "training epoch 8150, loss 82.21067810058594\n",
      "training epoch 8200, loss 78.16155242919922\n",
      "training epoch 8250, loss 78.91000366210938\n",
      "training epoch 8300, loss 75.47428894042969\n",
      "training epoch 8350, loss 90.08808135986328\n",
      "training epoch 8400, loss 74.01594543457031\n",
      "training epoch 8450, loss 75.94440460205078\n",
      "training epoch 8500, loss 80.06287384033203\n",
      "training epoch 8550, loss 75.73696899414062\n",
      "training epoch 8600, loss 82.59172821044922\n",
      "training epoch 8650, loss 79.69132232666016\n",
      "training epoch 8700, loss 79.38321685791016\n",
      "training epoch 8750, loss 78.763916015625\n",
      "training epoch 8800, loss 79.61249542236328\n",
      "training epoch 8850, loss 83.61265563964844\n",
      "training epoch 8900, loss 79.90548706054688\n",
      "training epoch 8950, loss 81.95560455322266\n",
      "training epoch 9000, loss 76.91568756103516\n",
      "training epoch 9050, loss 75.6169204711914\n",
      "training epoch 9100, loss 79.49565124511719\n",
      "training epoch 9150, loss 75.0372543334961\n",
      "training epoch 9200, loss 78.85377502441406\n",
      "training epoch 9250, loss 78.21760559082031\n",
      "training epoch 9300, loss 83.61351013183594\n",
      "training epoch 9350, loss 73.50010681152344\n",
      "training epoch 9400, loss 77.00473022460938\n"
     ]
    },
    {
     "name": "stdout",
     "output_type": "stream",
     "text": [
      "training epoch 9450, loss 84.36799621582031\n",
      "training epoch 9500, loss 75.8155517578125\n",
      "training epoch 9550, loss 76.16896057128906\n",
      "training epoch 9600, loss 82.8597640991211\n",
      "training epoch 9650, loss 75.09366607666016\n",
      "training epoch 9700, loss 84.70690155029297\n",
      "training epoch 9750, loss 79.2269058227539\n",
      "training epoch 9800, loss 78.06107330322266\n",
      "training epoch 9850, loss 73.7588882446289\n",
      "training epoch 9900, loss 78.26043701171875\n",
      "training epoch 9950, loss 79.55318450927734\n"
     ]
    }
   ],
   "source": [
    "epochs = 10000\n",
    "for epoch in range(epochs):\n",
    "    inputs = x_train\n",
    "    labels = y_train\n",
    "\n",
    "    optimizer.zero_grad()\n",
    "    outputs = model_tanH_reg.forward(inputs)\n",
    "    \n",
    "    loss = criterion(outputs, labels)\n",
    "    loss.backward()# back props\n",
    "    \n",
    "    # update the parameters\n",
    "    optimizer.step()\n",
    "    \n",
    "    if (epoch % 50 == 0): print('training epoch {}, loss {}'.format(epoch, loss.data))"
   ]
  },
  {
   "cell_type": "code",
   "execution_count": 28,
   "metadata": {
    "scrolled": true
   },
   "outputs": [
    {
     "name": "stdout",
     "output_type": "stream",
     "text": [
      "(2000, 1)\n",
      "28.105057\n",
      "28.105055\n"
     ]
    },
    {
     "data": {
      "image/png": "[encoded data removed]",
      "text/plain": [
       "<Figure size 432x288 with 1 Axes>"
      ]
     },
     "metadata": {
      "needs_background": "light"
     },
     "output_type": "display_data"
    },
    {
     "name": "stdout",
     "output_type": "stream",
     "text": [
      "OrderedDict([('linear.weight', tensor([[14.7962]])), ('linear.bias', tensor([9.7992]))])\n"
     ]
    }
   ],
   "source": [
    "# Evalutate non-linear neural network on test set\n",
    "model_tanH_reg.eval()\n",
    "x_eval = x[training_cutoff:]\n",
    "y_eval = y[training_cutoff:]\n",
    "order = np.argsort(x_eval)\n",
    "print_result(x_eval[order], y_eval[order], model_tanH_reg)"
   ]
  },
  {
   "cell_type": "code",
   "execution_count": 29,
   "metadata": {
    "scrolled": false
   },
   "outputs": [
    {
     "name": "stdout",
     "output_type": "stream",
     "text": [
      "(1000, 1)\n",
      "35767.45\n",
      "35767.445\n"
     ]
    },
    {
     "data": {
      "image/png": "[encoded data removed]",
      "text/plain": [
       "<Figure size 432x288 with 1 Axes>"
      ]
     },
     "metadata": {
      "needs_background": "light"
     },
     "output_type": "display_data"
    },
    {
     "name": "stdout",
     "output_type": "stream",
     "text": [
      "OrderedDict([('linear.weight', tensor([[14.7962]])), ('linear.bias', tensor([9.7992]))])\n"
     ]
    }
   ],
   "source": [
    "# Evaluate new regularized model for N(0,1) on unseen dataset\n",
    "x_eval = x_new\n",
    "y_eval = y_new\n",
    "order = np.argsort(x_eval)\n",
    "print_result(x_eval[order], y_eval[order], model_tanH_reg)"
   ]
  },
  {
   "cell_type": "markdown",
   "metadata": {},
   "source": [
    "### Questions:\n",
    "* Regularization doesn't seem to help generalization?\n",
    "* Way to stop after plateuing to a degree?\n",
    "* Unsure what the prediction plot is showing -- why are there multiple lines, instead of a curve?"
   ]
  },
  {
   "cell_type": "code",
   "execution_count": null,
   "metadata": {},
   "outputs": [],
   "source": []
  }
 ],
 "metadata": {
  "kernelspec": {
   "display_name": "Python 3",
   "language": "python",
   "name": "python3"
  },
  "language_info": {
   "codemirror_mode": {
    "name": "ipython",
    "version": 3
   },
   "file_extension": ".py",
   "mimetype": "text/x-python",
   "name": "python",
   "nbconvert_exporter": "python",
   "pygments_lexer": "ipython3",
   "version": "3.7.3"
  }
 },
 "nbformat": 4,
 "nbformat_minor": 2
}
