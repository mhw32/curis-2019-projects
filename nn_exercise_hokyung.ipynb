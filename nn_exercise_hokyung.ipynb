{
 "cells": [
  {
   "cell_type": "markdown",
   "metadata": {},
   "source": [
    "# Exercise w/ PyTorch\n",
    "### Author: Ho Kyung Sung"
   ]
  },
  {
   "cell_type": "markdown",
   "metadata": {},
   "source": [
    "#### Assignment spec: (date: May 22 2019)\n",
    "(i) Generate a dataset as follows: sample 10000 points from N(0, 1) as inputs (x). Define outputs (y) as y = 5x^3 + 10. Reserve 80% of the dataset for training and save 20% for evaluation.\n",
    "\n",
    "(ii) train a linear regression model (built in PyTorch!) using gradient descent on the training dataset. Evaluate on the reserved 20%. How does your model perform on training and evaluation data? (compute the mean squared error between predicted y and true y). \n",
    "\n",
    "(iii) Add more layers and some nonlinearities to your linear regression model (nn.TanH lets say). Compute training and evaluation performance again. What happens?"
   ]
  },
  {
   "cell_type": "code",
   "execution_count": 1,
   "metadata": {},
   "outputs": [],
   "source": [
    "import numpy as np\n",
    "import torch\n",
    "import matplotlib.pyplot as plt\n",
    "import torch.nn.functional as F"
   ]
  },
  {
   "cell_type": "code",
   "execution_count": 102,
   "metadata": {},
   "outputs": [],
   "source": [
    "# Function for printing evaluation stats\n",
    "def print_result(x_eval, y_eval, model):\n",
    "    predicted = model.forward(torch.from_numpy(x_eval).unsqueeze(1)).data.numpy()\n",
    "    print(predicted.shape)\n",
    "\n",
    "    y_eval = np.expand_dims(y_eval, 1)\n",
    "    final_loss = np.mean(np.square(y_eval - predicted))\n",
    "    final_loss2 = criterion(torch.from_numpy(predicted), torch.from_numpy(y_eval)).data.numpy()\n",
    "    print(final_loss)\n",
    "    print(final_loss2)\n",
    "    \n",
    "    plt.plot(x_eval, y_eval, 'o', label = 'from data', alpha = 0.5)\n",
    "    plt.plot(x_eval, predicted, '--', label = 'prediction', alpha = 0.5)\n",
    "    plt.legend()\n",
    "    plt.show()\n",
    "    print(model_ln.state_dict())"
   ]
  },
  {
   "cell_type": "markdown",
   "metadata": {},
   "source": [
    ">(i) Generate dataset"
   ]
  },
  {
   "cell_type": "code",
   "execution_count": 103,
   "metadata": {},
   "outputs": [],
   "source": [
    "# (i) Generate dataset\n",
    "n_data = 10000\n",
    "training_cutoff = n_data * 4 // 5\n",
    "\n",
    "mu, sigma = 0, 1\n",
    "x = (sigma * np.random.randn(n_data) + mu).astype(np.float32)\n",
    "y = 5*(x**3) + 10"
   ]
  },
  {
   "cell_type": "code",
   "execution_count": 104,
   "metadata": {},
   "outputs": [],
   "source": [
    "# (ii) Train linear regression model\n",
    "# Create linear regression model\n",
    "class LinearRegressionModel(torch.nn.Module):\n",
    "\n",
    "    def __init__(self, input_dim, output_dim):\n",
    "        super(LinearRegressionModel, self).__init__() \n",
    "        # Single linear layer\n",
    "        self.linear = torch.nn.Linear(input_dim, output_dim)\n",
    "\n",
    "    def forward(self, x):\n",
    "        predict = self.linear(x)\n",
    "        return predict"
   ]
  },
  {
   "cell_type": "markdown",
   "metadata": {},
   "source": [
    ">(ii) Linear Regression"
   ]
  },
  {
   "cell_type": "code",
   "execution_count": 105,
   "metadata": {},
   "outputs": [],
   "source": [
    "# Create instance of model\n",
    "in_dim = 1\n",
    "out_dim = 1\n",
    "model_ln = LinearRegressionModel(in_dim, out_dim)\n",
    "\n",
    "# Mean squared loss\n",
    "criterion = torch.nn.MSELoss()\n",
    "# define eta\n",
    "l_rate = 0.01\n",
    "# Training model is stochastic gradient descent\n",
    "optimizer = torch.optim.SGD(model_ln.parameters(), lr = l_rate)"
   ]
  },
  {
   "cell_type": "code",
   "execution_count": 106,
   "metadata": {},
   "outputs": [
    {
     "name": "stdout",
     "output_type": "stream",
     "text": [
      "training epoch 0, loss 522.5524291992188\n",
      "training epoch 10, loss 404.2661437988281\n",
      "training epoch 20, loss 325.7874450683594\n",
      "training epoch 30, loss 273.7192687988281\n",
      "training epoch 40, loss 239.17347717285156\n",
      "training epoch 50, loss 216.253173828125\n",
      "training epoch 60, loss 201.04595947265625\n",
      "training epoch 70, loss 190.95620727539062\n",
      "training epoch 80, loss 184.26177978515625\n",
      "training epoch 90, loss 179.820068359375\n",
      "training epoch 100, loss 176.87298583984375\n",
      "training epoch 110, loss 174.91761779785156\n",
      "training epoch 120, loss 173.62020874023438\n",
      "training epoch 130, loss 172.7593536376953\n",
      "training epoch 140, loss 172.18817138671875\n",
      "training epoch 150, loss 171.80917358398438\n",
      "training epoch 160, loss 171.55770874023438\n",
      "training epoch 170, loss 171.39085388183594\n",
      "training epoch 180, loss 171.28013610839844\n",
      "training epoch 190, loss 171.20668029785156\n",
      "training epoch 200, loss 171.15792846679688\n",
      "training epoch 210, loss 171.12557983398438\n",
      "training epoch 220, loss 171.1041259765625\n",
      "training epoch 230, loss 171.08987426757812\n",
      "training epoch 240, loss 171.08042907714844\n",
      "training epoch 250, loss 171.07415771484375\n",
      "training epoch 260, loss 171.0699920654297\n",
      "training epoch 270, loss 171.06723022460938\n",
      "training epoch 280, loss 171.06539916992188\n",
      "training epoch 290, loss 171.06419372558594\n"
     ]
    }
   ],
   "source": [
    "x_train = torch.from_numpy(x[:training_cutoff]).unsqueeze(1)\n",
    "y_train = torch.from_numpy(y[:training_cutoff]).unsqueeze(1)\n",
    "\n",
    "epochs = 300\n",
    "for epoch in range(epochs):\n",
    "    inputs = x_train\n",
    "    labels = y_train\n",
    "\n",
    "    optimizer.zero_grad()\n",
    "    outputs = model_ln.forward(inputs)\n",
    "    \n",
    "    loss = criterion(outputs, labels)\n",
    "    loss.backward()# back props\n",
    "    \n",
    "    # Q: how to stop after plateauing?\n",
    "    \n",
    "    # update the parameters\n",
    "    optimizer.step()\n",
    "    \n",
    "    if (epoch % 10 == 0): print('training epoch {}, loss {}'.format(epoch, loss.data))"
   ]
  },
  {
   "cell_type": "code",
   "execution_count": 107,
   "metadata": {},
   "outputs": [
    {
     "name": "stdout",
     "output_type": "stream",
     "text": [
      "(2000, 1)\n",
      "125.638374\n",
      "125.63837\n"
     ]
    },
    {
     "data": {
      "image/png": "[encoded data removed]",
      "text/plain": [
       "<Figure size 432x288 with 1 Axes>"
      ]
     },
     "metadata": {
      "needs_background": "light"
     },
     "output_type": "display_data"
    },
    {
     "name": "stdout",
     "output_type": "stream",
     "text": [
      "OrderedDict([('linear.weight', tensor([[15.4131]])), ('linear.bias', tensor([10.0581]))])\n"
     ]
    }
   ],
   "source": [
    "# Evaluate Linear Model\n",
    "x_eval = x[training_cutoff:]\n",
    "y_eval = y[training_cutoff:]\n",
    "print_result(x_eval, y_eval, model_ln)"
   ]
  },
  {
   "cell_type": "markdown",
   "metadata": {},
   "source": [
    ">(iii) Add non-linear layers (nn.TanH)"
   ]
  },
  {
   "cell_type": "code",
   "execution_count": 108,
   "metadata": {},
   "outputs": [],
   "source": [
    "# iii) Add non-linear layers (nn.TanH)\n",
    "# Create neural regression model\n",
    "class NeuralRegressionModel(torch.nn.Module):\n",
    "\n",
    "    def __init__(self, input_dim, hidden_dim, output_dim):\n",
    "        super(NeuralRegressionModel, self).__init__() \n",
    "        # Single linear layer\n",
    "        self.hidden = torch.nn.Linear(input_dim, hidden_dim)    # hidden layer\n",
    "        self.tanH = torch.nn.Hardtanh()                         # non-linear layer\n",
    "        self.linear = torch.nn.Linear(hidden_dim, output_dim)   # linear output layer\n",
    "        \n",
    "\n",
    "    def forward(self, x):\n",
    "        x = self.hidden(x)\n",
    "        x = self.tanH(x)               # activation function for hidden layer\n",
    "        x = self.linear(x)             # linear output\n",
    "        return x"
   ]
  },
  {
   "cell_type": "code",
   "execution_count": 109,
   "metadata": {},
   "outputs": [],
   "source": [
    "# Create instance of model\n",
    "model_tanH = NeuralRegressionModel(input_dim=1, hidden_dim=100, output_dim=1)\n",
    "\n",
    "# Mean squared loss\n",
    "criterion = torch.nn.MSELoss()\n",
    "# define eta\n",
    "l_rate = 0.01\n",
    "# Training model is stochastic gradient descent\n",
    "optimizer = torch.optim.SGD(model_tanH.parameters(), lr = l_rate)"
   ]
  },
  {
   "cell_type": "code",
   "execution_count": 137,
   "metadata": {},
   "outputs": [
    {
     "name": "stdout",
     "output_type": "stream",
     "text": [
      "training epoch 0, loss 9.274558067321777\n",
      "training epoch 50, loss 9.274558067321777\n",
      "training epoch 100, loss 9.274558067321777\n",
      "training epoch 150, loss 9.274558067321777\n",
      "training epoch 200, loss 9.274558067321777\n",
      "training epoch 250, loss 9.274558067321777\n",
      "training epoch 300, loss 9.274558067321777\n",
      "training epoch 350, loss 9.274558067321777\n",
      "training epoch 400, loss 9.274558067321777\n",
      "training epoch 450, loss 9.274558067321777\n",
      "training epoch 500, loss 9.274558067321777\n",
      "training epoch 550, loss 9.274558067321777\n",
      "training epoch 600, loss 9.274558067321777\n",
      "training epoch 650, loss 9.274558067321777\n",
      "training epoch 700, loss 9.274558067321777\n",
      "training epoch 750, loss 9.274558067321777\n",
      "training epoch 800, loss 9.274558067321777\n",
      "training epoch 850, loss 9.274558067321777\n",
      "training epoch 900, loss 9.274558067321777\n",
      "training epoch 950, loss 9.274558067321777\n",
      "training epoch 1000, loss 9.274558067321777\n",
      "training epoch 1050, loss 9.274558067321777\n",
      "training epoch 1100, loss 9.274558067321777\n",
      "training epoch 1150, loss 9.274558067321777\n",
      "training epoch 1200, loss 9.274558067321777\n",
      "training epoch 1250, loss 9.274558067321777\n",
      "training epoch 1300, loss 9.274558067321777\n",
      "training epoch 1350, loss 9.274558067321777\n",
      "training epoch 1400, loss 9.274558067321777\n",
      "training epoch 1450, loss 9.274558067321777\n",
      "training epoch 1500, loss 9.274558067321777\n",
      "training epoch 1550, loss 9.274558067321777\n",
      "training epoch 1600, loss 9.274558067321777\n",
      "training epoch 1650, loss 9.274558067321777\n",
      "training epoch 1700, loss 9.274558067321777\n",
      "training epoch 1750, loss 9.274558067321777\n",
      "training epoch 1800, loss 9.274558067321777\n",
      "training epoch 1850, loss 9.274558067321777\n",
      "training epoch 1900, loss 9.274558067321777\n",
      "training epoch 1950, loss 9.274558067321777\n"
     ]
    }
   ],
   "source": [
    "epochs = 2000\n",
    "for epoch in range(epochs):\n",
    "    inputs = x_train\n",
    "    labels = y_train\n",
    "\n",
    "    optimizer.zero_grad()\n",
    "    outputs = model_tanH.forward(inputs)\n",
    "    \n",
    "    loss = criterion(outputs, labels)\n",
    "    loss.backward()# back props\n",
    "    \n",
    "    # update the parameters\n",
    "    optimizer.step()\n",
    "    \n",
    "    if (epoch % 50 == 0): print('training epoch {}, loss {}'.format(epoch, loss.data))"
   ]
  },
  {
   "cell_type": "code",
   "execution_count": 138,
   "metadata": {},
   "outputs": [
    {
     "name": "stdout",
     "output_type": "stream",
     "text": [
      "(2000, 1)\n",
      "4.612491\n",
      "4.6124916\n"
     ]
    },
    {
     "data": {
      "image/png": "[encoded data removed]",
      "text/plain": [
       "<Figure size 432x288 with 1 Axes>"
      ]
     },
     "metadata": {
      "needs_background": "light"
     },
     "output_type": "display_data"
    },
    {
     "name": "stdout",
     "output_type": "stream",
     "text": [
      "OrderedDict([('linear.weight', tensor([[15.4131]])), ('linear.bias', tensor([10.0581]))])\n"
     ]
    }
   ],
   "source": [
    "# Evalutate non-linear neural network on test set\n",
    "x_eval = x[training_cutoff:]\n",
    "y_eval = y[training_cutoff:]\n",
    "print_result(x_eval, y_eval, model_tanH)"
   ]
  },
  {
   "cell_type": "code",
   "execution_count": null,
   "metadata": {},
   "outputs": [],
   "source": []
  },
  {
   "cell_type": "markdown",
   "metadata": {},
   "source": [
    "#### Assignment spec: (date: May 31 2019)\n",
    "1. To measure overfitting, take your trained model and sample points from N(3, 1) and N(-3, 1). Compare your model’s predictions to the true answer. You should see that the MSE is much higher than within the N(0, 1) range.\n",
    "\n",
    "2. Add some form of regularization to your model. Retrain and try to do (1) again. You should see much better MSE."
   ]
  },
  {
   "cell_type": "markdown",
   "metadata": {},
   "source": [
    ">1. test new dataset out of range"
   ]
  },
  {
   "cell_type": "code",
   "execution_count": 132,
   "metadata": {},
   "outputs": [],
   "source": [
    "# New dataset\n",
    "n_new_data = 500\n",
    "\n",
    "mu, sigma = 3, 1\n",
    "x_new1 = (sigma * np.random.randn(n_new_data) + mu).astype(np.float32)\n",
    "y_new1 = 5*(x_new1**3) + 10\n",
    "\n",
    "mu, sigma = -3, 1\n",
    "x_new2 = (sigma * np.random.randn(n_new_data) + mu).astype(np.float32)\n",
    "y_new2 = 5*(x_new2**3) + 10\n",
    "\n",
    "x_new = np.concatenate((x_new1, x_new2))\n",
    "y_new = np.concatenate((y_new1, y_new2))"
   ]
  },
  {
   "cell_type": "code",
   "execution_count": 133,
   "metadata": {
    "scrolled": false
   },
   "outputs": [
    {
     "name": "stdout",
     "output_type": "stream",
     "text": [
      "(1000, 1)\n",
      "15419.326\n",
      "15419.326\n"
     ]
    },
    {
     "data": {
      "image/png": "[encoded data removed]",
      "text/plain": [
       "<Figure size 432x288 with 1 Axes>"
      ]
     },
     "metadata": {
      "needs_background": "light"
     },
     "output_type": "display_data"
    },
    {
     "name": "stdout",
     "output_type": "stream",
     "text": [
      "OrderedDict([('linear.weight', tensor([[15.4131]])), ('linear.bias', tensor([10.0581]))])\n"
     ]
    }
   ],
   "source": [
    "# Evaluate original model for N(0,1) on unseen dataset\n",
    "x_eval = x_new\n",
    "y_eval = y_new\n",
    "print_result(x_eval, y_eval, model_tanH)"
   ]
  },
  {
   "cell_type": "markdown",
   "metadata": {},
   "source": [
    ">2. Train model with regularization penalties"
   ]
  },
  {
   "cell_type": "code",
   "execution_count": 134,
   "metadata": {},
   "outputs": [],
   "source": [
    "# Create neural regression model with regularization penalties\n",
    "class Neural_Model_Reg(torch.nn.Module):\n",
    "\n",
    "    def __init__(self, input_dim, hidden_dim, output_dim, dropout=0.5):\n",
    "        super(Neural_Model_Reg, self).__init__() \n",
    "        # Single linear layer\n",
    "        self.hidden = torch.nn.Linear(input_dim, hidden_dim)    # hidden layer\n",
    "        self.tanH = torch.nn.Hardtanh()                         # non-linear layer\n",
    "        self.linear = torch.nn.Linear(hidden_dim, output_dim)   # linear output layer\n",
    "        self.dropout = torch.nn.Dropout(dropout)\n",
    "\n",
    "    def forward(self, x):\n",
    "        x = self.hidden(x)\n",
    "        x = self.tanH(x)               # activation function for hidden layer\n",
    "        x = self.linear(x)             # linear output\n",
    "        return x"
   ]
  },
  {
   "cell_type": "code",
   "execution_count": 135,
   "metadata": {},
   "outputs": [],
   "source": [
    "# Create instance of model\n",
    "model_tanH_reg = Neural_Model_Reg(input_dim=1, hidden_dim=50, output_dim=1)\n",
    "\n",
    "# Mean squared loss\n",
    "criterion = torch.nn.MSELoss()\n",
    "# define eta\n",
    "l_rate = 0.01\n",
    "# ADDED L2 penalty\n",
    "wt_decay = 0.01\n",
    "\n",
    "# Training model is stochastic gradient descent\n",
    "optimizer = torch.optim.SGD(model_tanH_reg.parameters(), lr = l_rate, momentum = 0, weight_decay = wt_decay)"
   ]
  },
  {
   "cell_type": "code",
   "execution_count": 136,
   "metadata": {},
   "outputs": [
    {
     "name": "stdout",
     "output_type": "stream",
     "text": [
      "training epoch 0, loss 515.4203491210938\n",
      "training epoch 50, loss 131.65582275390625\n",
      "training epoch 100, loss 83.4230728149414\n",
      "training epoch 150, loss 61.32931137084961\n",
      "training epoch 200, loss 49.672706604003906\n",
      "training epoch 250, loss 42.73807907104492\n",
      "training epoch 300, loss 38.11326599121094\n",
      "training epoch 350, loss 34.63797378540039\n",
      "training epoch 400, loss 30.7462158203125\n",
      "training epoch 450, loss 36.12220764160156\n",
      "training epoch 500, loss 29.67843246459961\n",
      "training epoch 550, loss 29.39940643310547\n",
      "training epoch 600, loss 29.014053344726562\n",
      "training epoch 650, loss 29.282915115356445\n",
      "training epoch 700, loss 28.079124450683594\n",
      "training epoch 750, loss 26.555757522583008\n",
      "training epoch 800, loss 25.44676971435547\n",
      "training epoch 850, loss 25.051692962646484\n",
      "training epoch 900, loss 24.350753784179688\n",
      "training epoch 950, loss 24.386703491210938\n"
     ]
    }
   ],
   "source": [
    "epochs = 1000\n",
    "for epoch in range(epochs):\n",
    "    inputs = x_train\n",
    "    labels = y_train\n",
    "\n",
    "    optimizer.zero_grad()\n",
    "    outputs = model_tanH_reg.forward(inputs)\n",
    "    \n",
    "    loss = criterion(outputs, labels)\n",
    "    loss.backward()# back props\n",
    "    \n",
    "    # update the parameters\n",
    "    optimizer.step()\n",
    "    \n",
    "    if (epoch % 50 == 0): print('training epoch {}, loss {}'.format(epoch, loss.data))"
   ]
  },
  {
   "cell_type": "code",
   "execution_count": 127,
   "metadata": {
    "scrolled": true
   },
   "outputs": [
    {
     "name": "stdout",
     "output_type": "stream",
     "text": [
      "(2000, 1)\n",
      "10.360137\n",
      "10.360137\n"
     ]
    },
    {
     "data": {
      "image/png": "[encoded data removed]",
      "text/plain": [
       "<Figure size 432x288 with 1 Axes>"
      ]
     },
     "metadata": {
      "needs_background": "light"
     },
     "output_type": "display_data"
    },
    {
     "name": "stdout",
     "output_type": "stream",
     "text": [
      "OrderedDict([('linear.weight', tensor([[15.4131]])), ('linear.bias', tensor([10.0581]))])\n"
     ]
    }
   ],
   "source": [
    "# Evalutate non-linear neural network on test set\n",
    "x_eval = x[training_cutoff:]\n",
    "y_eval = y[training_cutoff:]\n",
    "print_result(x_eval, y_eval, model_tanH_reg)"
   ]
  },
  {
   "cell_type": "code",
   "execution_count": 128,
   "metadata": {
    "scrolled": true
   },
   "outputs": [
    {
     "name": "stdout",
     "output_type": "stream",
     "text": [
      "(20000, 1)\n",
      "23012.297\n",
      "23012.299\n"
     ]
    },
    {
     "data": {
      "image/png": "[encoded data removed]",
      "text/plain": [
       "<Figure size 432x288 with 1 Axes>"
      ]
     },
     "metadata": {
      "needs_background": "light"
     },
     "output_type": "display_data"
    },
    {
     "name": "stdout",
     "output_type": "stream",
     "text": [
      "OrderedDict([('linear.weight', tensor([[15.4131]])), ('linear.bias', tensor([10.0581]))])\n"
     ]
    }
   ],
   "source": [
    "# Evaluate new regularized model for N(0,1) on unseen dataset\n",
    "x_eval = x_new\n",
    "y_eval = y_new\n",
    "print_result(x_eval, y_eval, model_tanH_reg)"
   ]
  },
  {
   "cell_type": "markdown",
   "metadata": {},
   "source": [
    "### Questions:\n",
    "* Regularization doesn't seem to help generalization?\n",
    "* Way to stop after plateuing to a degree?\n",
    "* Unsure what the prediction plot is showing -- why are there multiple lines, instead of a curve?"
   ]
  },
  {
   "cell_type": "code",
   "execution_count": null,
   "metadata": {},
   "outputs": [],
   "source": []
  }
 ],
 "metadata": {
  "kernelspec": {
   "display_name": "Python 3",
   "language": "python",
   "name": "python3"
  },
  "language_info": {
   "codemirror_mode": {
    "name": "ipython",
    "version": 3
   },
   "file_extension": ".py",
   "mimetype": "text/x-python",
   "name": "python",
   "nbconvert_exporter": "python",
   "pygments_lexer": "ipython3",
   "version": "3.7.3"
  }
 },
 "nbformat": 4,
 "nbformat_minor": 2
}
